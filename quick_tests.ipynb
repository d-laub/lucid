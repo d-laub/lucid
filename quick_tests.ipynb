{
 "cells": [
  {
   "cell_type": "code",
   "execution_count": 1,
   "id": "22c0f883-135a-4be2-bb6a-fa657e88cda2",
   "metadata": {
    "execution": {
     "iopub.execute_input": "2021-10-26T01:13:12.647687Z",
     "iopub.status.busy": "2021-10-26T01:13:12.646773Z",
     "iopub.status.idle": "2021-10-26T01:13:17.155477Z",
     "shell.execute_reply": "2021-10-26T01:13:17.154625Z",
     "shell.execute_reply.started": "2021-10-26T01:13:12.647628Z"
    }
   },
   "outputs": [],
   "source": [
    "import torch\n",
    "import torch.nn as nn"
   ]
  },
  {
   "cell_type": "code",
   "execution_count": 2,
   "id": "648f9f7d-c283-423d-a0b8-bee8663dab97",
   "metadata": {},
   "outputs": [],
   "source": [
    "lstm = nn.LSTM(3, 5)"
   ]
  },
  {
   "cell_type": "code",
   "execution_count": 13,
   "metadata": {},
   "outputs": [
    {
     "data": {
      "text/plain": [
       "Parameter containing:\n",
       "tensor([-0.3271,  0.3428, -0.0135, -0.2700,  0.2923,  0.1454,  0.0030, -0.0952,\n",
       "         0.3887, -0.4441,  0.3928, -0.3520,  0.0112,  0.1021, -0.3417, -0.1162,\n",
       "         0.2625,  0.1616,  0.0075,  0.4181], requires_grad=True)"
      ]
     },
     "execution_count": 13,
     "metadata": {},
     "output_type": "execute_result"
    }
   ],
   "source": [
    "lstm.all_weights[0][3]"
   ]
  },
  {
   "cell_type": "code",
   "execution_count": 15,
   "metadata": {},
   "outputs": [
    {
     "data": {
      "text/plain": [
       "Parameter containing:\n",
       "tensor([-0.1017, -0.3989,  0.4317, -0.2234, -0.0075, -0.2043,  0.1950, -0.1823,\n",
       "         0.3294, -0.0119, -0.4153,  0.1165,  0.4075, -0.3427, -0.2318,  0.2785,\n",
       "        -0.1009, -0.2224, -0.1998,  0.0090], requires_grad=True)"
      ]
     },
     "execution_count": 15,
     "metadata": {},
     "output_type": "execute_result"
    }
   ],
   "source": [
    "getattr(lstm, 'bias_ih_l0')"
   ]
  },
  {
   "cell_type": "code",
   "execution_count": 20,
   "metadata": {},
   "outputs": [],
   "source": [
    "def init_weights(m):\n",
    "    if isinstance(m, nn.Linear):\n",
    "        torch.nn.init.kaiming_normal_(m.weight)\n",
    "    elif isinstance(m, nn.LSTM):\n",
    "        for name, param in m.named_parameters():\n",
    "            if name.startswith('weight'):\n",
    "                torch.nn.init.orthogonal_(param)"
   ]
  },
  {
   "cell_type": "code",
   "execution_count": 21,
   "metadata": {},
   "outputs": [
    {
     "data": {
      "text/plain": [
       "LSTM(3, 5)"
      ]
     },
     "execution_count": 21,
     "metadata": {},
     "output_type": "execute_result"
    }
   ],
   "source": [
    "lstm.apply(init_weights)"
   ]
  }
 ],
 "metadata": {
  "interpreter": {
   "hash": "20037fa5d10b3a0afb2ea96c1c919d79a71f3438075307c68ff44fd73f3d3ddf"
  },
  "kernelspec": {
   "display_name": "Python 3.9.7 64-bit ('py3_DL': conda)",
   "name": "python3"
  },
  "language_info": {
   "codemirror_mode": {
    "name": "ipython",
    "version": 3
   },
   "file_extension": ".py",
   "mimetype": "text/x-python",
   "name": "python",
   "nbconvert_exporter": "python",
   "pygments_lexer": "ipython3",
   "version": "3.9.7"
  }
 },
 "nbformat": 4,
 "nbformat_minor": 5
}
